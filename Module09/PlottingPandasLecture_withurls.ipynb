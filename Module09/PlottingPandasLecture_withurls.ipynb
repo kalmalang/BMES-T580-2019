{
 "cells": [
  {
   "cell_type": "markdown",
   "metadata": {
    "slideshow": {
     "slide_type": "slide"
    }
   },
   "source": [
    "# Pandas and plotting"
   ]
  },
  {
   "cell_type": "markdown",
   "metadata": {
    "slideshow": {
     "slide_type": "slide"
    }
   },
   "source": [
    "We're going to use 4 main packages."
   ]
  },
  {
   "cell_type": "code",
   "execution_count": 1,
   "metadata": {
    "slideshow": {
     "slide_type": "-"
    }
   },
   "outputs": [],
   "source": [
    "import numpy as np\n",
    "import pandas as pd\n",
    "import matplotlib.pyplot as plt\n",
    "import seaborn as sbn\n",
    "\n",
    "%matplotlib inline"
   ]
  },
  {
   "cell_type": "markdown",
   "metadata": {
    "slideshow": {
     "slide_type": "slide"
    }
   },
   "source": [
    "# Numpy"
   ]
  },
  {
   "cell_type": "code",
   "execution_count": 3,
   "metadata": {
    "slideshow": {
     "slide_type": "-"
    }
   },
   "outputs": [],
   "source": [
    "import numpy as np"
   ]
  },
  {
   "cell_type": "markdown",
   "metadata": {
    "slideshow": {
     "slide_type": "-"
    }
   },
   "source": [
    "![alt text][Numpy]\n",
    "\n",
    "#[Numpy]: imgs/numpy_logo.png \"Numpy\"\n",
    "    \n",
    "`Numpy` is collection of numerical computing routines that underly virtually all of the Python data analysis stack. We will mainly use it for the mathematical functions.\n",
    "\n",
    "COCOMO estimated cost: _$4.1 million_\n",
    "[https://www.openhub.net/p/numpy/estimated_cost]"
   ]
  },
  {
   "cell_type": "code",
   "execution_count": 2,
   "metadata": {
    "slideshow": {
     "slide_type": "subslide"
    }
   },
   "outputs": [
    {
     "name": "stdout",
     "output_type": "stream",
     "text": [
      "1.7403626894942439\n",
      "16\n"
     ]
    }
   ],
   "source": [
    "# When using a numpy command you'll need to preface everything with np.\n",
    "\n",
    "print(np.log10(55))\n",
    "print(np.power(4, 2))"
   ]
  },
  {
   "cell_type": "markdown",
   "metadata": {},
   "source": [
    "Other `numpy` mathematical operations: https://docs.scipy.org/doc/numpy/reference/routines.math.html"
   ]
  },
  {
   "cell_type": "markdown",
   "metadata": {
    "slideshow": {
     "slide_type": "subslide"
    }
   },
   "source": [
    "Numpy also deals with arrays. These are similar to Matlab vectors/matrices"
   ]
  },
  {
   "cell_type": "code",
   "execution_count": 5,
   "metadata": {
    "slideshow": {
     "slide_type": "-"
    }
   },
   "outputs": [
    {
     "name": "stdout",
     "output_type": "stream",
     "text": [
      "ar + br = [12  5  5 12 15]\n",
      "ar*br = [35  6  4 32 56]\n",
      "np.dot(ar, br) = 133\n",
      "ar > 4 = [ True False False  True  True]\n"
     ]
    }
   ],
   "source": [
    "ar = np.array([5, 3, 4, 8, 8])\n",
    "br = np.array([7, 2, 1, 4, 7])\n",
    "\n",
    "print('ar + br =', ar+br)\n",
    "print('ar*br =', ar*br) #element-wise!!!!!!!!!\n",
    "print('np.dot(ar, br) =', np.dot(ar, br))\n",
    "print('ar > 4 =', ar>4)"
   ]
  },
  {
   "cell_type": "markdown",
   "metadata": {
    "slideshow": {
     "slide_type": "-"
    }
   },
   "source": [
    "Other linear algebra routines: https://docs.scipy.org/doc/numpy/reference/routines.linalg.html"
   ]
  },
  {
   "cell_type": "markdown",
   "metadata": {
    "slideshow": {
     "slide_type": "subslide"
    }
   },
   "source": [
    "N-d array are constructed using a List of Lists strategy."
   ]
  },
  {
   "cell_type": "code",
   "execution_count": 6,
   "metadata": {
    "slideshow": {
     "slide_type": "-"
    }
   },
   "outputs": [
    {
     "name": "stdout",
     "output_type": "stream",
     "text": [
      "Matrix [[5 3 4 8 8]\n",
      " [3 4 1 7 5]]\n",
      "Shape (2, 5)\n",
      "Cube [[[5 3 4 8 8]\n",
      "  [3 4 1 7 5]]\n",
      "\n",
      " [[9 3 4 1 2]\n",
      "  [1 2 7 1 5]]]\n",
      "Shape (2, 2, 5)\n",
      "Flat Matrix [5 3 4 8 8 3 4 1 7 5]\n",
      "Shape (10,)\n",
      "Flat Cube [5 3 4 8 8 3 4 1 7 5 9 3 4 1 2 1 2 7 1 5]\n",
      "Shape (20,)\n"
     ]
    }
   ],
   "source": [
    "mat = np.array([[5, 3, 4, 8, 8],\n",
    "                [3, 4, 1, 7, 5]])\n",
    "\n",
    "print('Matrix', mat)\n",
    "print('Shape', mat.shape)\n",
    "\n",
    "cube = np.array([[[5, 3, 4, 8, 8],\n",
    "                  [3, 4, 1, 7, 5]],\n",
    "                 [[9, 3, 4, 1, 2],\n",
    "                  [1, 2, 7, 1, 5]],\n",
    "                ])\n",
    "\n",
    "print('Cube', cube)\n",
    "print('Shape', cube.shape)\n",
    "\n",
    "# You can also `unroll` N-dimensional arrays\n",
    "# This will be useful later\n",
    "\n",
    "flat_mat = mat.flatten()\n",
    "print('Flat Matrix', flat_mat)\n",
    "print('Shape', flat_mat.shape)\n",
    "\n",
    "flat_cube = cube.flatten()\n",
    "print('Flat Cube', flat_cube)\n",
    "print('Shape', flat_cube.shape)\n"
   ]
  },
  {
   "cell_type": "markdown",
   "metadata": {},
   "source": [
    "Other array creation routines: https://docs.scipy.org/doc/numpy/reference/routines.array-creation.html"
   ]
  },
  {
   "cell_type": "markdown",
   "metadata": {
    "slideshow": {
     "slide_type": "subslide"
    }
   },
   "source": [
    "Numpy also has the standard collection of array opperations."
   ]
  },
  {
   "cell_type": "code",
   "execution_count": 7,
   "metadata": {
    "slideshow": {
     "slide_type": "-"
    }
   },
   "outputs": [
    {
     "name": "stdout",
     "output_type": "stream",
     "text": [
      "[5 3]\n",
      "sum 28\n",
      "mean 5.6\n",
      "median 5.0\n"
     ]
    }
   ],
   "source": [
    "ar = np.array([5, 3, 4, 8, 8])\n",
    "\n",
    "print(ar[:2])\n",
    "\n",
    "print('sum', np.sum(ar))\n",
    "print('mean', np.mean(ar))\n",
    "print('median', np.median(ar))"
   ]
  },
  {
   "cell_type": "markdown",
   "metadata": {
    "slideshow": {
     "slide_type": "subslide"
    }
   },
   "source": [
    "Since everything in Python is an object, many of these operations can be done as methods."
   ]
  },
  {
   "cell_type": "code",
   "execution_count": 10,
   "metadata": {
    "slideshow": {
     "slide_type": "-"
    }
   },
   "outputs": [
    {
     "name": "stdout",
     "output_type": "stream",
     "text": [
      "sum 28\n",
      "mean 5.6\n"
     ]
    },
    {
     "ename": "AttributeError",
     "evalue": "'numpy.ndarray' object has no attribute 'median'",
     "output_type": "error",
     "traceback": [
      "\u001b[0;31m---------------------------------------------------------------------------\u001b[0m",
      "\u001b[0;31mAttributeError\u001b[0m                            Traceback (most recent call last)",
      "\u001b[0;32m<ipython-input-10-6566c2d64c5f>\u001b[0m in \u001b[0;36m<module>\u001b[0;34m()\u001b[0m\n\u001b[1;32m      3\u001b[0m \u001b[0mprint\u001b[0m\u001b[0;34m(\u001b[0m\u001b[0;34m'sum'\u001b[0m\u001b[0;34m,\u001b[0m \u001b[0mar\u001b[0m\u001b[0;34m.\u001b[0m\u001b[0msum\u001b[0m\u001b[0;34m(\u001b[0m\u001b[0;34m)\u001b[0m\u001b[0;34m)\u001b[0m\u001b[0;34m\u001b[0m\u001b[0m\n\u001b[1;32m      4\u001b[0m \u001b[0mprint\u001b[0m\u001b[0;34m(\u001b[0m\u001b[0;34m'mean'\u001b[0m\u001b[0;34m,\u001b[0m \u001b[0mar\u001b[0m\u001b[0;34m.\u001b[0m\u001b[0mmean\u001b[0m\u001b[0;34m(\u001b[0m\u001b[0;34m)\u001b[0m\u001b[0;34m)\u001b[0m\u001b[0;34m\u001b[0m\u001b[0m\n\u001b[0;32m----> 5\u001b[0;31m \u001b[0mprint\u001b[0m\u001b[0;34m(\u001b[0m\u001b[0;34m'median'\u001b[0m\u001b[0;34m,\u001b[0m \u001b[0mar\u001b[0m\u001b[0;34m.\u001b[0m\u001b[0mmedian\u001b[0m\u001b[0;34m(\u001b[0m\u001b[0;34m)\u001b[0m\u001b[0;34m)\u001b[0m \u001b[0;31m#but not this *for some reason*\u001b[0m\u001b[0;34m\u001b[0m\u001b[0m\n\u001b[0m",
      "\u001b[0;31mAttributeError\u001b[0m: 'numpy.ndarray' object has no attribute 'median'"
     ]
    }
   ],
   "source": [
    "ar = np.array([5, 3, 4, 8, 8])\n",
    "\n",
    "print('sum', ar.sum())\n",
    "print('mean', ar.mean())\n",
    "print('median', ar.median()) #but not this *for some reason*"
   ]
  },
  {
   "cell_type": "markdown",
   "metadata": {
    "slideshow": {
     "slide_type": "slide"
    }
   },
   "source": [
    "# Pandas"
   ]
  },
  {
   "cell_type": "code",
   "execution_count": 11,
   "metadata": {
    "slideshow": {
     "slide_type": "-"
    }
   },
   "outputs": [],
   "source": [
    "import pandas as pd"
   ]
  },
  {
   "cell_type": "markdown",
   "metadata": {
    "slideshow": {
     "slide_type": "-"
    }
   },
   "source": [
    "![alt text][Pandas]\n",
    "\n",
    "#[Pandas]: imgs/pandas_logo.png \"Pandas\"\n",
    "    \n",
    "`Pandas` is a data analysis package that facilitates the storing, merging, aggregating, and vizualization of any type of data in Python. We will be using this package extensively.\n"
   ]
  },
  {
   "cell_type": "markdown",
   "metadata": {
    "slideshow": {
     "slide_type": "subslide"
    }
   },
   "source": [
    "Pandas does not have a direct Matlab counterpart. The closest analogy is a Python-powered Excel sheet."
   ]
  },
  {
   "cell_type": "code",
   "execution_count": 14,
   "metadata": {
    "slideshow": {
     "slide_type": "-"
    }
   },
   "outputs": [
    {
     "name": "stdout",
     "output_type": "stream",
     "text": [
      "500\n"
     ]
    },
    {
     "data": {
      "text/html": [
       "<div>\n",
       "<style scoped>\n",
       "    .dataframe tbody tr th:only-of-type {\n",
       "        vertical-align: middle;\n",
       "    }\n",
       "\n",
       "    .dataframe tbody tr th {\n",
       "        vertical-align: top;\n",
       "    }\n",
       "\n",
       "    .dataframe thead th {\n",
       "        text-align: right;\n",
       "    }\n",
       "</style>\n",
       "<table border=\"1\" class=\"dataframe\">\n",
       "  <thead>\n",
       "    <tr style=\"text-align: right;\">\n",
       "      <th></th>\n",
       "      <th>Age</th>\n",
       "      <th>Drug</th>\n",
       "      <th>Month0</th>\n",
       "      <th>Month1</th>\n",
       "      <th>Month2</th>\n",
       "      <th>Month3</th>\n",
       "      <th>Month4</th>\n",
       "    </tr>\n",
       "  </thead>\n",
       "  <tbody>\n",
       "    <tr>\n",
       "      <th>0</th>\n",
       "      <td>30</td>\n",
       "      <td>Drug2</td>\n",
       "      <td>5.636962e+06</td>\n",
       "      <td>1.059754e+06</td>\n",
       "      <td>199236.288295</td>\n",
       "      <td>37462.998812</td>\n",
       "      <td>7044.503429</td>\n",
       "    </tr>\n",
       "    <tr>\n",
       "      <th>1</th>\n",
       "      <td>54</td>\n",
       "      <td>Drug2</td>\n",
       "      <td>2.260656e+06</td>\n",
       "      <td>6.510708e+05</td>\n",
       "      <td>187551.663442</td>\n",
       "      <td>54050.023993</td>\n",
       "      <td>15571.524033</td>\n",
       "    </tr>\n",
       "    <tr>\n",
       "      <th>2</th>\n",
       "      <td>30</td>\n",
       "      <td>Drug3</td>\n",
       "      <td>1.508800e+06</td>\n",
       "      <td>1.434082e+05</td>\n",
       "      <td>13657.120780</td>\n",
       "      <td>1299.166239</td>\n",
       "      <td>142.099372</td>\n",
       "    </tr>\n",
       "    <tr>\n",
       "      <th>3</th>\n",
       "      <td>19</td>\n",
       "      <td>Drug2</td>\n",
       "      <td>1.298145e+06</td>\n",
       "      <td>2.440952e+05</td>\n",
       "      <td>45971.968628</td>\n",
       "      <td>8644.024352</td>\n",
       "      <td>1647.873818</td>\n",
       "    </tr>\n",
       "    <tr>\n",
       "      <th>4</th>\n",
       "      <td>62</td>\n",
       "      <td>Drug1</td>\n",
       "      <td>7.156592e+06</td>\n",
       "      <td>5.582156e+05</td>\n",
       "      <td>43632.795374</td>\n",
       "      <td>3463.810311</td>\n",
       "      <td>276.337802</td>\n",
       "    </tr>\n",
       "  </tbody>\n",
       "</table>\n",
       "</div>"
      ],
      "text/plain": [
       "   Age   Drug        Month0        Month1         Month2        Month3  \\\n",
       "0   30  Drug2  5.636962e+06  1.059754e+06  199236.288295  37462.998812   \n",
       "1   54  Drug2  2.260656e+06  6.510708e+05  187551.663442  54050.023993   \n",
       "2   30  Drug3  1.508800e+06  1.434082e+05   13657.120780   1299.166239   \n",
       "3   19  Drug2  1.298145e+06  2.440952e+05   45971.968628   8644.024352   \n",
       "4   62  Drug1  7.156592e+06  5.582156e+05   43632.795374   3463.810311   \n",
       "\n",
       "         Month4  \n",
       "0   7044.503429  \n",
       "1  15571.524033  \n",
       "2    142.099372  \n",
       "3   1647.873818  \n",
       "4    276.337802  "
      ]
     },
     "execution_count": 14,
     "metadata": {},
     "output_type": "execute_result"
    }
   ],
   "source": [
    "# You can read things directly from Excel files\n",
    "\n",
    "df = pd.read_excel('PatientData.xlsx')\n",
    "print(len(df))\n",
    "df.head() #display the first 5 rows"
   ]
  },
  {
   "cell_type": "markdown",
   "metadata": {},
   "source": [
    "`Pandas` has a large collection of data input functions: https://pandas.pydata.org/pandas-docs/stable/io.html"
   ]
  },
  {
   "cell_type": "markdown",
   "metadata": {
    "slideshow": {
     "slide_type": "subslide"
    }
   },
   "source": [
    "The two dimensional objects are called `DataFrame`s and the one-dimensional objects (rows or columns) a `Series`."
   ]
  },
  {
   "cell_type": "code",
   "execution_count": 15,
   "metadata": {
    "slideshow": {
     "slide_type": "-"
    }
   },
   "outputs": [
    {
     "data": {
      "text/plain": [
       "0    30\n",
       "1    54\n",
       "2    30\n",
       "3    19\n",
       "4    62\n",
       "Name: Age, dtype: int64"
      ]
     },
     "execution_count": 15,
     "metadata": {},
     "output_type": "execute_result"
    }
   ],
   "source": [
    "# Data is extracted using the .loc operator\n",
    "\n",
    "df.loc[:, 'Age'].head() #Extract all rows of the \"Age\" column"
   ]
  },
  {
   "cell_type": "code",
   "execution_count": 16,
   "metadata": {
    "slideshow": {
     "slide_type": "-"
    }
   },
   "outputs": [
    {
     "data": {
      "text/html": [
       "<div>\n",
       "<style scoped>\n",
       "    .dataframe tbody tr th:only-of-type {\n",
       "        vertical-align: middle;\n",
       "    }\n",
       "\n",
       "    .dataframe tbody tr th {\n",
       "        vertical-align: top;\n",
       "    }\n",
       "\n",
       "    .dataframe thead th {\n",
       "        text-align: right;\n",
       "    }\n",
       "</style>\n",
       "<table border=\"1\" class=\"dataframe\">\n",
       "  <thead>\n",
       "    <tr style=\"text-align: right;\">\n",
       "      <th></th>\n",
       "      <th>Age</th>\n",
       "      <th>Drug</th>\n",
       "    </tr>\n",
       "  </thead>\n",
       "  <tbody>\n",
       "    <tr>\n",
       "      <th>0</th>\n",
       "      <td>30</td>\n",
       "      <td>Drug2</td>\n",
       "    </tr>\n",
       "    <tr>\n",
       "      <th>1</th>\n",
       "      <td>54</td>\n",
       "      <td>Drug2</td>\n",
       "    </tr>\n",
       "    <tr>\n",
       "      <th>2</th>\n",
       "      <td>30</td>\n",
       "      <td>Drug3</td>\n",
       "    </tr>\n",
       "    <tr>\n",
       "      <th>3</th>\n",
       "      <td>19</td>\n",
       "      <td>Drug2</td>\n",
       "    </tr>\n",
       "    <tr>\n",
       "      <th>4</th>\n",
       "      <td>62</td>\n",
       "      <td>Drug1</td>\n",
       "    </tr>\n",
       "  </tbody>\n",
       "</table>\n",
       "</div>"
      ],
      "text/plain": [
       "   Age   Drug\n",
       "0   30  Drug2\n",
       "1   54  Drug2\n",
       "2   30  Drug3\n",
       "3   19  Drug2\n",
       "4   62  Drug1"
      ]
     },
     "execution_count": 16,
     "metadata": {},
     "output_type": "execute_result"
    }
   ],
   "source": [
    "# Or in multiples\n",
    "df.loc[:, ['Age', 'Drug']].head()"
   ]
  },
  {
   "cell_type": "code",
   "execution_count": 17,
   "metadata": {
    "slideshow": {
     "slide_type": "-"
    }
   },
   "outputs": [
    {
     "data": {
      "text/html": [
       "<div>\n",
       "<style scoped>\n",
       "    .dataframe tbody tr th:only-of-type {\n",
       "        vertical-align: middle;\n",
       "    }\n",
       "\n",
       "    .dataframe tbody tr th {\n",
       "        vertical-align: top;\n",
       "    }\n",
       "\n",
       "    .dataframe thead th {\n",
       "        text-align: right;\n",
       "    }\n",
       "</style>\n",
       "<table border=\"1\" class=\"dataframe\">\n",
       "  <thead>\n",
       "    <tr style=\"text-align: right;\">\n",
       "      <th></th>\n",
       "      <th>Age</th>\n",
       "      <th>Drug</th>\n",
       "      <th>Month0</th>\n",
       "      <th>Month1</th>\n",
       "      <th>Month2</th>\n",
       "      <th>Month3</th>\n",
       "      <th>Month4</th>\n",
       "    </tr>\n",
       "  </thead>\n",
       "  <tbody>\n",
       "    <tr>\n",
       "      <th>5</th>\n",
       "      <td>66</td>\n",
       "      <td>Drug2</td>\n",
       "      <td>5.548569e+06</td>\n",
       "      <td>1.597991e+06</td>\n",
       "      <td>460222.521387</td>\n",
       "      <td>132604.794864</td>\n",
       "      <td>38205.032214</td>\n",
       "    </tr>\n",
       "    <tr>\n",
       "      <th>6</th>\n",
       "      <td>44</td>\n",
       "      <td>Drug4</td>\n",
       "      <td>6.498551e+06</td>\n",
       "      <td>2.797929e+04</td>\n",
       "      <td>131.829991</td>\n",
       "      <td>20.000000</td>\n",
       "      <td>20.000000</td>\n",
       "    </tr>\n",
       "    <tr>\n",
       "      <th>7</th>\n",
       "      <td>19</td>\n",
       "      <td>Drug4</td>\n",
       "      <td>1.405671e+06</td>\n",
       "      <td>6.064423e+03</td>\n",
       "      <td>65.038018</td>\n",
       "      <td>68.241732</td>\n",
       "      <td>28.220178</td>\n",
       "    </tr>\n",
       "    <tr>\n",
       "      <th>8</th>\n",
       "      <td>83</td>\n",
       "      <td>Drug1</td>\n",
       "      <td>1.166770e+06</td>\n",
       "      <td>9.103149e+04</td>\n",
       "      <td>7102.544665</td>\n",
       "      <td>584.838426</td>\n",
       "      <td>58.490092</td>\n",
       "    </tr>\n",
       "    <tr>\n",
       "      <th>9</th>\n",
       "      <td>44</td>\n",
       "      <td>Drug4</td>\n",
       "      <td>8.716813e+06</td>\n",
       "      <td>3.748642e+04</td>\n",
       "      <td>164.871082</td>\n",
       "      <td>35.751589</td>\n",
       "      <td>20.000000</td>\n",
       "    </tr>\n",
       "    <tr>\n",
       "      <th>10</th>\n",
       "      <td>83</td>\n",
       "      <td>Drug3</td>\n",
       "      <td>1.475438e+06</td>\n",
       "      <td>1.401931e+05</td>\n",
       "      <td>13322.650023</td>\n",
       "      <td>1356.476157</td>\n",
       "      <td>131.696106</td>\n",
       "    </tr>\n",
       "  </tbody>\n",
       "</table>\n",
       "</div>"
      ],
      "text/plain": [
       "    Age   Drug        Month0        Month1         Month2         Month3  \\\n",
       "5    66  Drug2  5.548569e+06  1.597991e+06  460222.521387  132604.794864   \n",
       "6    44  Drug4  6.498551e+06  2.797929e+04     131.829991      20.000000   \n",
       "7    19  Drug4  1.405671e+06  6.064423e+03      65.038018      68.241732   \n",
       "8    83  Drug1  1.166770e+06  9.103149e+04    7102.544665     584.838426   \n",
       "9    44  Drug4  8.716813e+06  3.748642e+04     164.871082      35.751589   \n",
       "10   83  Drug3  1.475438e+06  1.401931e+05   13322.650023    1356.476157   \n",
       "\n",
       "          Month4  \n",
       "5   38205.032214  \n",
       "6      20.000000  \n",
       "7      28.220178  \n",
       "8      58.490092  \n",
       "9      20.000000  \n",
       "10    131.696106  "
      ]
     },
     "execution_count": 17,
     "metadata": {},
     "output_type": "execute_result"
    }
   ],
   "source": [
    "# Rows can be extracted\n",
    "df.loc[5:10, :] # Extract rows 5-10, all columns"
   ]
  },
  {
   "cell_type": "code",
   "execution_count": 18,
   "metadata": {
    "slideshow": {
     "slide_type": "subslide"
    }
   },
   "outputs": [
    {
     "data": {
      "text/html": [
       "<div>\n",
       "<style scoped>\n",
       "    .dataframe tbody tr th:only-of-type {\n",
       "        vertical-align: middle;\n",
       "    }\n",
       "\n",
       "    .dataframe tbody tr th {\n",
       "        vertical-align: top;\n",
       "    }\n",
       "\n",
       "    .dataframe thead th {\n",
       "        text-align: right;\n",
       "    }\n",
       "</style>\n",
       "<table border=\"1\" class=\"dataframe\">\n",
       "  <thead>\n",
       "    <tr style=\"text-align: right;\">\n",
       "      <th></th>\n",
       "      <th>Age</th>\n",
       "      <th>Drug</th>\n",
       "      <th>Month0</th>\n",
       "      <th>Month1</th>\n",
       "      <th>Month2</th>\n",
       "      <th>Month3</th>\n",
       "      <th>Month4</th>\n",
       "    </tr>\n",
       "  </thead>\n",
       "  <tbody>\n",
       "    <tr>\n",
       "      <th>1</th>\n",
       "      <td>54</td>\n",
       "      <td>Drug2</td>\n",
       "      <td>2.260656e+06</td>\n",
       "      <td>6.510708e+05</td>\n",
       "      <td>187551.663442</td>\n",
       "      <td>54050.023993</td>\n",
       "      <td>15571.524033</td>\n",
       "    </tr>\n",
       "    <tr>\n",
       "      <th>4</th>\n",
       "      <td>62</td>\n",
       "      <td>Drug1</td>\n",
       "      <td>7.156592e+06</td>\n",
       "      <td>5.582156e+05</td>\n",
       "      <td>43632.795374</td>\n",
       "      <td>3463.810311</td>\n",
       "      <td>276.337802</td>\n",
       "    </tr>\n",
       "    <tr>\n",
       "      <th>5</th>\n",
       "      <td>66</td>\n",
       "      <td>Drug2</td>\n",
       "      <td>5.548569e+06</td>\n",
       "      <td>1.597991e+06</td>\n",
       "      <td>460222.521387</td>\n",
       "      <td>132604.794864</td>\n",
       "      <td>38205.032214</td>\n",
       "    </tr>\n",
       "    <tr>\n",
       "      <th>6</th>\n",
       "      <td>44</td>\n",
       "      <td>Drug4</td>\n",
       "      <td>6.498551e+06</td>\n",
       "      <td>2.797929e+04</td>\n",
       "      <td>131.829991</td>\n",
       "      <td>20.000000</td>\n",
       "      <td>20.000000</td>\n",
       "    </tr>\n",
       "    <tr>\n",
       "      <th>8</th>\n",
       "      <td>83</td>\n",
       "      <td>Drug1</td>\n",
       "      <td>1.166770e+06</td>\n",
       "      <td>9.103149e+04</td>\n",
       "      <td>7102.544665</td>\n",
       "      <td>584.838426</td>\n",
       "      <td>58.490092</td>\n",
       "    </tr>\n",
       "  </tbody>\n",
       "</table>\n",
       "</div>"
      ],
      "text/plain": [
       "   Age   Drug        Month0        Month1         Month2         Month3  \\\n",
       "1   54  Drug2  2.260656e+06  6.510708e+05  187551.663442   54050.023993   \n",
       "4   62  Drug1  7.156592e+06  5.582156e+05   43632.795374    3463.810311   \n",
       "5   66  Drug2  5.548569e+06  1.597991e+06  460222.521387  132604.794864   \n",
       "6   44  Drug4  6.498551e+06  2.797929e+04     131.829991      20.000000   \n",
       "8   83  Drug1  1.166770e+06  9.103149e+04    7102.544665     584.838426   \n",
       "\n",
       "         Month4  \n",
       "1  15571.524033  \n",
       "4    276.337802  \n",
       "5  38205.032214  \n",
       "6     20.000000  \n",
       "8     58.490092  "
      ]
     },
     "execution_count": 18,
     "metadata": {},
     "output_type": "execute_result"
    }
   ],
   "source": [
    "# Boolean indexing works\n",
    "\n",
    "mask = df.loc[:, 'Age'] >= 35\n",
    "df.loc[mask,:].head()"
   ]
  },
  {
   "cell_type": "markdown",
   "metadata": {
    "slideshow": {
     "slide_type": "-"
    }
   },
   "source": [
    "Follow the link for a more detailed breakdown of `boolean` indexing strategies: https://pandas.pydata.org/pandas-docs/stable/indexing.html#boolean-indexing"
   ]
  },
  {
   "cell_type": "code",
   "execution_count": 19,
   "metadata": {
    "slideshow": {
     "slide_type": "subslide"
    }
   },
   "outputs": [
    {
     "data": {
      "text/html": [
       "<div>\n",
       "<style scoped>\n",
       "    .dataframe tbody tr th:only-of-type {\n",
       "        vertical-align: middle;\n",
       "    }\n",
       "\n",
       "    .dataframe tbody tr th {\n",
       "        vertical-align: top;\n",
       "    }\n",
       "\n",
       "    .dataframe thead th {\n",
       "        text-align: right;\n",
       "    }\n",
       "</style>\n",
       "<table border=\"1\" class=\"dataframe\">\n",
       "  <thead>\n",
       "    <tr style=\"text-align: right;\">\n",
       "      <th></th>\n",
       "      <th>Age</th>\n",
       "      <th>Drug</th>\n",
       "      <th>Month0</th>\n",
       "      <th>Month1</th>\n",
       "      <th>Month2</th>\n",
       "      <th>Month3</th>\n",
       "      <th>Month4</th>\n",
       "    </tr>\n",
       "  </thead>\n",
       "  <tbody>\n",
       "    <tr>\n",
       "      <th>1</th>\n",
       "      <td>54</td>\n",
       "      <td>Drug2</td>\n",
       "      <td>2.260656e+06</td>\n",
       "      <td>6.510708e+05</td>\n",
       "      <td>187551.663442</td>\n",
       "      <td>54050.023993</td>\n",
       "      <td>15571.524033</td>\n",
       "    </tr>\n",
       "    <tr>\n",
       "      <th>4</th>\n",
       "      <td>62</td>\n",
       "      <td>Drug1</td>\n",
       "      <td>7.156592e+06</td>\n",
       "      <td>5.582156e+05</td>\n",
       "      <td>43632.795374</td>\n",
       "      <td>3463.810311</td>\n",
       "      <td>276.337802</td>\n",
       "    </tr>\n",
       "    <tr>\n",
       "      <th>5</th>\n",
       "      <td>66</td>\n",
       "      <td>Drug2</td>\n",
       "      <td>5.548569e+06</td>\n",
       "      <td>1.597991e+06</td>\n",
       "      <td>460222.521387</td>\n",
       "      <td>132604.794864</td>\n",
       "      <td>38205.032214</td>\n",
       "    </tr>\n",
       "    <tr>\n",
       "      <th>6</th>\n",
       "      <td>44</td>\n",
       "      <td>Drug4</td>\n",
       "      <td>6.498551e+06</td>\n",
       "      <td>2.797929e+04</td>\n",
       "      <td>131.829991</td>\n",
       "      <td>20.000000</td>\n",
       "      <td>20.000000</td>\n",
       "    </tr>\n",
       "    <tr>\n",
       "      <th>8</th>\n",
       "      <td>83</td>\n",
       "      <td>Drug1</td>\n",
       "      <td>1.166770e+06</td>\n",
       "      <td>9.103149e+04</td>\n",
       "      <td>7102.544665</td>\n",
       "      <td>584.838426</td>\n",
       "      <td>58.490092</td>\n",
       "    </tr>\n",
       "  </tbody>\n",
       "</table>\n",
       "</div>"
      ],
      "text/plain": [
       "   Age   Drug        Month0        Month1         Month2         Month3  \\\n",
       "1   54  Drug2  2.260656e+06  6.510708e+05  187551.663442   54050.023993   \n",
       "4   62  Drug1  7.156592e+06  5.582156e+05   43632.795374    3463.810311   \n",
       "5   66  Drug2  5.548569e+06  1.597991e+06  460222.521387  132604.794864   \n",
       "6   44  Drug4  6.498551e+06  2.797929e+04     131.829991      20.000000   \n",
       "8   83  Drug1  1.166770e+06  9.103149e+04    7102.544665     584.838426   \n",
       "\n",
       "         Month4  \n",
       "1  15571.524033  \n",
       "4    276.337802  \n",
       "5  38205.032214  \n",
       "6     20.000000  \n",
       "8     58.490092  "
      ]
     },
     "execution_count": 19,
     "metadata": {},
     "output_type": "execute_result"
    }
   ],
   "source": [
    "# DataFrames also have a query operator\n",
    "\n",
    "sm_df = df.query('Age >= 35')\n",
    "sm_df.head()"
   ]
  },
  {
   "cell_type": "code",
   "execution_count": 20,
   "metadata": {
    "slideshow": {
     "slide_type": "-"
    }
   },
   "outputs": [
    {
     "data": {
      "text/html": [
       "<div>\n",
       "<style scoped>\n",
       "    .dataframe tbody tr th:only-of-type {\n",
       "        vertical-align: middle;\n",
       "    }\n",
       "\n",
       "    .dataframe tbody tr th {\n",
       "        vertical-align: top;\n",
       "    }\n",
       "\n",
       "    .dataframe thead th {\n",
       "        text-align: right;\n",
       "    }\n",
       "</style>\n",
       "<table border=\"1\" class=\"dataframe\">\n",
       "  <thead>\n",
       "    <tr style=\"text-align: right;\">\n",
       "      <th></th>\n",
       "      <th>Age</th>\n",
       "      <th>Drug</th>\n",
       "      <th>Month0</th>\n",
       "      <th>Month1</th>\n",
       "      <th>Month2</th>\n",
       "      <th>Month3</th>\n",
       "      <th>Month4</th>\n",
       "    </tr>\n",
       "  </thead>\n",
       "  <tbody>\n",
       "    <tr>\n",
       "      <th>1</th>\n",
       "      <td>54</td>\n",
       "      <td>Drug2</td>\n",
       "      <td>2.260656e+06</td>\n",
       "      <td>6.510708e+05</td>\n",
       "      <td>187551.663442</td>\n",
       "      <td>54050.023993</td>\n",
       "      <td>15571.524033</td>\n",
       "    </tr>\n",
       "    <tr>\n",
       "      <th>4</th>\n",
       "      <td>62</td>\n",
       "      <td>Drug1</td>\n",
       "      <td>7.156592e+06</td>\n",
       "      <td>5.582156e+05</td>\n",
       "      <td>43632.795374</td>\n",
       "      <td>3463.810311</td>\n",
       "      <td>276.337802</td>\n",
       "    </tr>\n",
       "    <tr>\n",
       "      <th>5</th>\n",
       "      <td>66</td>\n",
       "      <td>Drug2</td>\n",
       "      <td>5.548569e+06</td>\n",
       "      <td>1.597991e+06</td>\n",
       "      <td>460222.521387</td>\n",
       "      <td>132604.794864</td>\n",
       "      <td>38205.032214</td>\n",
       "    </tr>\n",
       "    <tr>\n",
       "      <th>8</th>\n",
       "      <td>83</td>\n",
       "      <td>Drug1</td>\n",
       "      <td>1.166770e+06</td>\n",
       "      <td>9.103149e+04</td>\n",
       "      <td>7102.544665</td>\n",
       "      <td>584.838426</td>\n",
       "      <td>58.490092</td>\n",
       "    </tr>\n",
       "    <tr>\n",
       "      <th>13</th>\n",
       "      <td>39</td>\n",
       "      <td>Drug2</td>\n",
       "      <td>1.237746e+06</td>\n",
       "      <td>2.327212e+05</td>\n",
       "      <td>43758.396675</td>\n",
       "      <td>8228.539405</td>\n",
       "      <td>1629.412032</td>\n",
       "    </tr>\n",
       "  </tbody>\n",
       "</table>\n",
       "</div>"
      ],
      "text/plain": [
       "    Age   Drug        Month0        Month1         Month2         Month3  \\\n",
       "1    54  Drug2  2.260656e+06  6.510708e+05  187551.663442   54050.023993   \n",
       "4    62  Drug1  7.156592e+06  5.582156e+05   43632.795374    3463.810311   \n",
       "5    66  Drug2  5.548569e+06  1.597991e+06  460222.521387  132604.794864   \n",
       "8    83  Drug1  1.166770e+06  9.103149e+04    7102.544665     584.838426   \n",
       "13   39  Drug2  1.237746e+06  2.327212e+05   43758.396675    8228.539405   \n",
       "\n",
       "          Month4  \n",
       "1   15571.524033  \n",
       "4     276.337802  \n",
       "5   38205.032214  \n",
       "8      58.490092  \n",
       "13   1629.412032  "
      ]
     },
     "execution_count": 20,
     "metadata": {},
     "output_type": "execute_result"
    }
   ],
   "source": [
    "# These can be as complex as you can make them\n",
    "\n",
    "sm_df = df.query('Age >= 35 & (Drug == \"Drug1\" | Drug == \"Drug2\")')\n",
    "sm_df.head()"
   ]
  },
  {
   "cell_type": "markdown",
   "metadata": {
    "slideshow": {
     "slide_type": "-"
    }
   },
   "source": [
    "Follow the link for more uses of `.query`: https://pandas.pydata.org/pandas-docs/stable/indexing.html#the-query-method-experimental"
   ]
  },
  {
   "cell_type": "markdown",
   "metadata": {
    "slideshow": {
     "slide_type": "slide"
    }
   },
   "source": [
    "## Pandas\n",
    "Simple things should be simple"
   ]
  },
  {
   "cell_type": "markdown",
   "metadata": {
    "slideshow": {
     "slide_type": "subslide"
    }
   },
   "source": [
    "`Series` have numerous convenience methods for common data questions."
   ]
  },
  {
   "cell_type": "code",
   "execution_count": 18,
   "metadata": {
    "slideshow": {
     "slide_type": "-"
    }
   },
   "outputs": [
    {
     "data": {
      "text/html": [
       "<div>\n",
       "<style>\n",
       "    .dataframe thead tr:only-child th {\n",
       "        text-align: right;\n",
       "    }\n",
       "\n",
       "    .dataframe thead th {\n",
       "        text-align: left;\n",
       "    }\n",
       "\n",
       "    .dataframe tbody tr th {\n",
       "        vertical-align: top;\n",
       "    }\n",
       "</style>\n",
       "<table border=\"1\" class=\"dataframe\">\n",
       "  <thead>\n",
       "    <tr style=\"text-align: right;\">\n",
       "      <th></th>\n",
       "      <th>Age</th>\n",
       "      <th>Drug</th>\n",
       "      <th>Month0</th>\n",
       "      <th>Month1</th>\n",
       "      <th>Month2</th>\n",
       "      <th>Month3</th>\n",
       "      <th>Month4</th>\n",
       "    </tr>\n",
       "  </thead>\n",
       "  <tbody>\n",
       "    <tr>\n",
       "      <th>0</th>\n",
       "      <td>30</td>\n",
       "      <td>Drug2</td>\n",
       "      <td>5.636962e+06</td>\n",
       "      <td>1.059754e+06</td>\n",
       "      <td>199236.288295</td>\n",
       "      <td>37462.998812</td>\n",
       "      <td>7044.503429</td>\n",
       "    </tr>\n",
       "    <tr>\n",
       "      <th>1</th>\n",
       "      <td>54</td>\n",
       "      <td>Drug2</td>\n",
       "      <td>2.260656e+06</td>\n",
       "      <td>6.510708e+05</td>\n",
       "      <td>187551.663442</td>\n",
       "      <td>54050.023993</td>\n",
       "      <td>15571.524033</td>\n",
       "    </tr>\n",
       "    <tr>\n",
       "      <th>2</th>\n",
       "      <td>30</td>\n",
       "      <td>Drug3</td>\n",
       "      <td>1.508800e+06</td>\n",
       "      <td>1.434082e+05</td>\n",
       "      <td>13657.120780</td>\n",
       "      <td>1299.166239</td>\n",
       "      <td>142.099372</td>\n",
       "    </tr>\n",
       "    <tr>\n",
       "      <th>3</th>\n",
       "      <td>19</td>\n",
       "      <td>Drug2</td>\n",
       "      <td>1.298145e+06</td>\n",
       "      <td>2.440952e+05</td>\n",
       "      <td>45971.968628</td>\n",
       "      <td>8644.024352</td>\n",
       "      <td>1647.873818</td>\n",
       "    </tr>\n",
       "    <tr>\n",
       "      <th>4</th>\n",
       "      <td>62</td>\n",
       "      <td>Drug1</td>\n",
       "      <td>7.156592e+06</td>\n",
       "      <td>5.582156e+05</td>\n",
       "      <td>43632.795374</td>\n",
       "      <td>3463.810311</td>\n",
       "      <td>276.337802</td>\n",
       "    </tr>\n",
       "  </tbody>\n",
       "</table>\n",
       "</div>"
      ],
      "text/plain": [
       "   Age   Drug        Month0        Month1         Month2        Month3  \\\n",
       "0   30  Drug2  5.636962e+06  1.059754e+06  199236.288295  37462.998812   \n",
       "1   54  Drug2  2.260656e+06  6.510708e+05  187551.663442  54050.023993   \n",
       "2   30  Drug3  1.508800e+06  1.434082e+05   13657.120780   1299.166239   \n",
       "3   19  Drug2  1.298145e+06  2.440952e+05   45971.968628   8644.024352   \n",
       "4   62  Drug1  7.156592e+06  5.582156e+05   43632.795374   3463.810311   \n",
       "\n",
       "         Month4  \n",
       "0   7044.503429  \n",
       "1  15571.524033  \n",
       "2    142.099372  \n",
       "3   1647.873818  \n",
       "4    276.337802  "
      ]
     },
     "execution_count": 18,
     "metadata": {},
     "output_type": "execute_result"
    }
   ],
   "source": [
    "df.head()"
   ]
  },
  {
   "cell_type": "code",
   "execution_count": 19,
   "metadata": {
    "slideshow": {
     "slide_type": "-"
    }
   },
   "outputs": [
    {
     "data": {
      "text/plain": [
       "count    500.000000\n",
       "mean      53.610000\n",
       "std       21.356453\n",
       "min       18.000000\n",
       "25%       35.000000\n",
       "50%       54.000000\n",
       "75%       73.000000\n",
       "max       89.000000\n",
       "Name: Age, dtype: float64"
      ]
     },
     "execution_count": 19,
     "metadata": {},
     "output_type": "execute_result"
    }
   ],
   "source": [
    "# .describe provides useful info at a glance.\n",
    "df.loc[:,'Age'].describe()"
   ]
  },
  {
   "cell_type": "code",
   "execution_count": 21,
   "metadata": {
    "slideshow": {
     "slide_type": "-"
    }
   },
   "outputs": [
    {
     "data": {
      "text/plain": [
       "count       500\n",
       "unique        4\n",
       "top       Drug2\n",
       "freq        132\n",
       "Name: Drug, dtype: object"
      ]
     },
     "execution_count": 21,
     "metadata": {},
     "output_type": "execute_result"
    }
   ],
   "source": [
    "# It is smart about how to deal with categorical data\n",
    "df.loc[:,'Drug'].describe()"
   ]
  },
  {
   "cell_type": "markdown",
   "metadata": {},
   "source": [
    "Follow the link for more descriptive functions: https://pandas.pydata.org/pandas-docs/stable/basics.html#descriptive-statistics"
   ]
  },
  {
   "cell_type": "code",
   "execution_count": 21,
   "metadata": {
    "slideshow": {
     "slide_type": "subslide"
    }
   },
   "outputs": [
    {
     "name": "stdout",
     "output_type": "stream",
     "text": [
      "mean 53.61\n",
      "max 89\n",
      "median 54.0\n"
     ]
    }
   ],
   "source": [
    "# Everything you can do with an array you can do with a Series\n",
    "\n",
    "print('mean', df.loc[:,'Age'].mean())\n",
    "print('max', df.loc[:,'Age'].max())\n",
    "print('median', df.loc[:,'Age'].median())"
   ]
  },
  {
   "cell_type": "code",
   "execution_count": 22,
   "metadata": {
    "slideshow": {
     "slide_type": "-"
    }
   },
   "outputs": [
    {
     "data": {
      "text/plain": [
       "Age       5.361000e+01\n",
       "Month0    3.947745e+06\n",
       "Month1    4.717658e+05\n",
       "Month2    8.384193e+04\n",
       "Month3    1.881430e+04\n",
       "Month4    4.818092e+03\n",
       "dtype: float64"
      ]
     },
     "execution_count": 22,
     "metadata": {},
     "output_type": "execute_result"
    }
   ],
   "source": [
    "# These also work on a DataFrame level\n",
    "\n",
    "df.mean()"
   ]
  },
  {
   "cell_type": "code",
   "execution_count": 23,
   "metadata": {
    "slideshow": {
     "slide_type": "-"
    }
   },
   "outputs": [
    {
     "data": {
      "text/plain": [
       "Age       6.176042e+01\n",
       "Month0    4.111250e+06\n",
       "Month1    3.206984e+05\n",
       "Month2    2.503531e+04\n",
       "Month3    1.972295e+03\n",
       "Month4    1.749319e+02\n",
       "dtype: float64"
      ]
     },
     "execution_count": 23,
     "metadata": {},
     "output_type": "execute_result"
    }
   ],
   "source": [
    "# Combining .query and .mean (or others) is very powerful\n",
    "\n",
    "df.query('Age >= 35 & Drug == \"Drug1\"').mean()"
   ]
  },
  {
   "cell_type": "markdown",
   "metadata": {
    "slideshow": {
     "slide_type": "slide"
    }
   },
   "source": [
    "## Pandas\n",
    "Simple plotting should be simple"
   ]
  },
  {
   "cell_type": "code",
   "execution_count": 24,
   "metadata": {
    "slideshow": {
     "slide_type": "subslide"
    }
   },
   "outputs": [
    {
     "data": {
      "text/plain": [
       "<matplotlib.axes._subplots.AxesSubplot at 0x1a1cbdb828>"
      ]
     },
     "execution_count": 24,
     "metadata": {},
     "output_type": "execute_result"
    },
    {
     "data": {
      "image/png": "[encoded data removed]",
      "text/plain": [
       "<Figure size 432x288 with 1 Axes>"
      ]
     },
     "metadata": {},
     "output_type": "display_data"
    }
   ],
   "source": [
    "# Simple plotting is simple\n",
    "df.loc[:, 'Age'].plot(kind='hist')"
   ]
  },
  {
   "cell_type": "markdown",
   "metadata": {
    "slideshow": {
     "slide_type": "-"
    }
   },
   "source": [
    "Follow the link for a list of other useful plotting tools: https://pandas.pydata.org/pandas-docs/stable/visualization.html#other-plots"
   ]
  },
  {
   "cell_type": "code",
   "execution_count": 25,
   "metadata": {
    "slideshow": {
     "slide_type": "subslide"
    }
   },
   "outputs": [
    {
     "data": {
      "image/png": "[encoded data removed]",
      "text/plain": [
       "<Figure size 720x720 with 6 Axes>"
      ]
     },
     "metadata": {},
     "output_type": "display_data"
    }
   ],
   "source": [
    "cols = ['Month0', 'Month1', 'Month2', 'Month3', 'Month4']\n",
    "axs = df.boxplot(by = 'Drug', column=cols, figsize=(10, 10))\n",
    "\n",
    "# Ignore the man behind this curtain\n",
    "_ = [ax.set_yscale('log') for ax in axs.flatten()] "
   ]
  },
  {
   "cell_type": "markdown",
   "metadata": {
    "slideshow": {
     "slide_type": "slide"
    }
   },
   "source": [
    "# Matplotlib"
   ]
  },
  {
   "cell_type": "code",
   "execution_count": 26,
   "metadata": {
    "slideshow": {
     "slide_type": "-"
    }
   },
   "outputs": [],
   "source": [
    "import matplotlib.pyplot as plt\n",
    "%matplotlib inline"
   ]
  },
  {
   "cell_type": "markdown",
   "metadata": {
    "slideshow": {
     "slide_type": "-"
    }
   },
   "source": [
    "![alt text][Matplotlib]\n",
    "\n",
    "#[Matplotlib]: imgs/matplotlib_logo.svg \"Matplotlib\"\n",
    "    \n",
    "`Matplotlib` is a Python port of the Matlab plotting functions. It enhances this with an object-oriented style that make creating complicated plots easily.\n",
    "\n",
    "COCOMO estimated cost: _$3.5 million_ [https://www.openhub.net/p/matplotlib/estimated_cost]"
   ]
  },
  {
   "cell_type": "markdown",
   "metadata": {
    "slideshow": {
     "slide_type": "subslide"
    }
   },
   "source": [
    "Everything revolves around the `figure`. The constructor we're going to use (almost exclusively) is the `plt.subplots` constructor."
   ]
  },
  {
   "cell_type": "code",
   "execution_count": 28,
   "metadata": {
    "slideshow": {
     "slide_type": "-"
    }
   },
   "outputs": [
    {
     "data": {
      "image/png": "[encoded data removed]",
      "text/plain": [
       "<matplotlib.figure.Figure at 0x112b230f0>"
      ]
     },
     "metadata": {},
     "output_type": "display_data"
    }
   ],
   "source": [
    "fig, ax = plt.subplots(1, 1)"
   ]
  },
  {
   "cell_type": "code",
   "execution_count": 27,
   "metadata": {
    "slideshow": {
     "slide_type": "subslide"
    }
   },
   "outputs": [
    {
     "data": {
      "text/plain": [
       "[<matplotlib.lines.Line2D at 0x1a212bd390>]"
      ]
     },
     "execution_count": 27,
     "metadata": {},
     "output_type": "execute_result"
    },
    {
     "data": {
      "image/png": "[encoded data removed]",
      "text/plain": [
       "<Figure size 432x288 with 1 Axes>"
      ]
     },
     "metadata": {},
     "output_type": "display_data"
    }
   ],
   "source": [
    "# The actual plotting occurs on the \"axis\" object\n",
    "\n",
    "yvals = np.random.rand(5,1)\n",
    "\n",
    "fig, ax = plt.subplots(1, 1)\n",
    "ax.plot(range(5), yvals)"
   ]
  },
  {
   "cell_type": "code",
   "execution_count": 28,
   "metadata": {
    "slideshow": {
     "slide_type": "subslide"
    }
   },
   "outputs": [
    {
     "data": {
      "text/plain": [
       "Text(0.5,0,'X-values')"
      ]
     },
     "execution_count": 28,
     "metadata": {},
     "output_type": "execute_result"
    },
    {
     "data": {
      "image/png": "[encoded data removed]",
      "text/plain": [
       "<Figure size 432x288 with 1 Axes>"
      ]
     },
     "metadata": {},
     "output_type": "display_data"
    }
   ],
   "source": [
    "fig, ax = plt.subplots(1, 1)\n",
    "ax.plot(range(5), yvals)\n",
    "\n",
    "#Limits & labels can be set on the axis object\n",
    "ax.set_ylim(0, 1)\n",
    "ax.set_ylabel('Y-values')\n",
    "\n",
    "ax.set_xlim(0, 4)\n",
    "ax.set_xlabel('X-values')"
   ]
  },
  {
   "cell_type": "markdown",
   "metadata": {},
   "source": [
    "Here is a long list of all of the possible changes you can do to an `Axes` object: http://matplotlib.org/api/axes_api.html ... `ctrl-F` is your friend."
   ]
  },
  {
   "cell_type": "code",
   "execution_count": 29,
   "metadata": {
    "slideshow": {
     "slide_type": "subslide"
    }
   },
   "outputs": [
    {
     "data": {
      "text/plain": [
       "<matplotlib.legend.Legend at 0x1a21450550>"
      ]
     },
     "execution_count": 29,
     "metadata": {},
     "output_type": "execute_result"
    },
    {
     "data": {
      "image/png": "[encoded data removed]",
      "text/plain": [
       "<Figure size 432x288 with 1 Axes>"
      ]
     },
     "metadata": {},
     "output_type": "display_data"
    }
   ],
   "source": [
    "fig, ax = plt.subplots(1, 1)\n",
    "\n",
    "# You can add markers, change colors, and add labels as keyword arguments\n",
    "ax.plot(range(5), yvals, \n",
    "        color = 'r', label = 'data-points',\n",
    "        marker = '.', markersize = 15)\n",
    "\n",
    "ax.set_ylim(0, 1)\n",
    "ax.set_ylabel('Y-values', fontsize=14, color = 'b')\n",
    "\n",
    "ax.set_xlim(0, 4)\n",
    "ax.set_xlabel('X-values', rotation=30)\n",
    "\n",
    "ax.legend(fontsize=20)"
   ]
  },
  {
   "cell_type": "code",
   "execution_count": 30,
   "metadata": {
    "slideshow": {
     "slide_type": "subslide"
    }
   },
   "outputs": [
    {
     "data": {
      "text/plain": [
       "<matplotlib.legend.Legend at 0x1a214a2da0>"
      ]
     },
     "execution_count": 30,
     "metadata": {},
     "output_type": "execute_result"
    },
    {
     "data": {
      "image/png": "[encoded data removed]",
      "text/plain": [
       "<Figure size 432x288 with 1 Axes>"
      ]
     },
     "metadata": {},
     "output_type": "display_data"
    }
   ],
   "source": [
    "fig, ax = plt.subplots(1, 1)\n",
    "\n",
    "ax.plot(range(5), yvals, \n",
    "        color = 'r', label = 'data-points',\n",
    "        marker = '.', markersize = 15)\n",
    "\n",
    "# If you want to plot multiple datasets\n",
    "yvals2 = np.random.rand(10,1)\n",
    "ax.plot(np.arange(0, 5, 0.5), yvals2, \n",
    "        color = 'g', label = 'new-points',\n",
    "        marker = '.', markersize = 15)\n",
    "\n",
    "ax.set_ylim(0, 1)\n",
    "ax.set_ylabel('Y-values', fontsize=14, color = 'b')\n",
    "\n",
    "ax.set_xlim(0, 4)\n",
    "ax.set_xticks(np.arange(5))\n",
    "ax.set_xlabel('X-values', rotation=30)\n",
    "\n",
    "ax.legend(fontsize=10)"
   ]
  },
  {
   "cell_type": "code",
   "execution_count": 31,
   "metadata": {
    "slideshow": {
     "slide_type": "subslide"
    }
   },
   "outputs": [
    {
     "data": {
      "text/plain": [
       "<matplotlib.legend.Legend at 0x1a208c3240>"
      ]
     },
     "execution_count": 31,
     "metadata": {},
     "output_type": "execute_result"
    },
    {
     "data": {
      "image/png": "[encoded data removed]",
      "text/plain": [
       "<Figure size 432x288 with 1 Axes>"
      ]
     },
     "metadata": {},
     "output_type": "display_data"
    }
   ],
   "source": [
    "fig, ax = plt.subplots(1, 1)\n",
    "\n",
    "# All of the same plotting functions from Matlab are available\n",
    "ax.scatter(range(5), yvals, \n",
    "           color = 'r', label = 'data-points',\n",
    "           marker = '.', s = 50)\n",
    "\n",
    "ax.scatter(np.arange(0, 5, 0.5), yvals2, \n",
    "           color = 'g', label = 'new-points',\n",
    "           marker = '.', s = 50)\n",
    "\n",
    "ax.set_ylim(0, 1)\n",
    "ax.set_ylabel('Y-values', fontsize=14, color = 'b')\n",
    "\n",
    "ax.set_xlim(0, 4)\n",
    "ax.set_xticks(np.arange(5))\n",
    "ax.set_xlabel('X-values', rotation=30)\n",
    "\n",
    "ax.legend(fontsize=10)"
   ]
  },
  {
   "cell_type": "markdown",
   "metadata": {},
   "source": [
    "This link has an exhaustive list of all plot-types you can create. Use `ctrl-F` to search through it. http://matplotlib.org/api/pyplot_api.html"
   ]
  },
  {
   "cell_type": "code",
   "execution_count": 32,
   "metadata": {
    "slideshow": {
     "slide_type": "subslide"
    }
   },
   "outputs": [
    {
     "data": {
      "text/plain": [
       "[<matplotlib.lines.Line2D at 0x1a2154e2e8>]"
      ]
     },
     "execution_count": 32,
     "metadata": {},
     "output_type": "execute_result"
    },
    {
     "data": {
      "image/png": "[encoded data removed]",
      "text/plain": [
       "<Figure size 576x360 with 2 Axes>"
      ]
     },
     "metadata": {},
     "output_type": "display_data"
    }
   ],
   "source": [
    "# I can also make distinct plots\n",
    "fig, axs = plt.subplots(1, 2, figsize = (8, 5))\n",
    "\n",
    "left_ax, right_ax = axs\n",
    "\n",
    "left_ax.plot(range(5), yvals, \n",
    "             color = 'r', label = 'data-points',\n",
    "             marker = '.', markersize = 15)\n",
    "\n",
    "right_ax.plot(np.arange(0, 5, 0.5), yvals2, \n",
    "             color = 'g', label = 'new-points',\n",
    "             marker = '.', markersize = 15)"
   ]
  },
  {
   "cell_type": "code",
   "execution_count": 33,
   "metadata": {
    "slideshow": {
     "slide_type": "subslide"
    }
   },
   "outputs": [
    {
     "data": {
      "text/plain": [
       "[<matplotlib.lines.Line2D at 0x1a21656f28>]"
      ]
     },
     "execution_count": 33,
     "metadata": {},
     "output_type": "execute_result"
    },
    {
     "data": {
      "image/png": "[encoded data removed]",
      "text/plain": [
       "<Figure size 576x360 with 2 Axes>"
      ]
     },
     "metadata": {},
     "output_type": "display_data"
    }
   ],
   "source": [
    "# I can also make distinct plots, that share axes\n",
    "fig, axs = plt.subplots(1, 2, \n",
    "                        figsize = (8, 5), \n",
    "                        sharex=True,\n",
    "                        sharey=True)\n",
    "\n",
    "left_ax, right_ax = axs\n",
    "\n",
    "left_ax.plot(range(5), yvals, \n",
    "             color = 'r', label = 'data-points',\n",
    "             marker = '.', markersize = 15)\n",
    "\n",
    "right_ax.plot(np.arange(0, 5, 0.5), yvals2, \n",
    "             color = 'g', label = 'new-points',\n",
    "             marker = '.', markersize = 15)"
   ]
  },
  {
   "cell_type": "code",
   "execution_count": 34,
   "metadata": {
    "slideshow": {
     "slide_type": "subslide"
    }
   },
   "outputs": [
    {
     "data": {
      "image/png": "[encoded data removed]",
      "text/plain": [
       "<Figure size 576x360 with 2 Axes>"
      ]
     },
     "metadata": {},
     "output_type": "display_data"
    }
   ],
   "source": [
    "# I can also make distinct plots, that share axes\n",
    "fig, axs = plt.subplots(1, 2, \n",
    "                        figsize = (8, 5), # Size in inches\n",
    "                        sharex=True,\n",
    "                        sharey=True)\n",
    "\n",
    "left_ax, right_ax = axs\n",
    "\n",
    "left_ax.plot(range(5), yvals, \n",
    "             color = 'r', label = 'data-points',\n",
    "             marker = '.', markersize = 15)\n",
    "left_ax.set_title('Left Axis')\n",
    "\n",
    "right_ax.plot(np.arange(0, 5, 0.5), yvals2, \n",
    "             color = 'g', label = 'new-points',\n",
    "             marker = '.', markersize = 15)\n",
    "right_ax.set_title('Right Axis')\n",
    "\n",
    "# Remember, Python can iterate through any list!\n",
    "for ax in axs:\n",
    "\n",
    "    ax.set_ylim(0, 1)\n",
    "    \n",
    "    if ax.is_first_col():\n",
    "        ax.set_ylabel('Y-values', fontsize=14, color = 'b')\n",
    "\n",
    "    ax.set_xlim(0, 4)\n",
    "    ax.set_xticks(np.arange(5))\n",
    "    ax.set_xlabel('X-values', rotation=30)\n",
    "    \n",
    "fig.tight_layout()"
   ]
  },
  {
   "cell_type": "code",
   "execution_count": null,
   "metadata": {
    "collapsed": true
   },
   "outputs": [],
   "source": []
  },
  {
   "cell_type": "code",
   "execution_count": 37,
   "metadata": {
    "slideshow": {
     "slide_type": "subslide"
    }
   },
   "outputs": [
    {
     "data": {
      "text/plain": [
       "<matplotlib.axes._subplots.AxesSubplot at 0x112a1f7b8>"
      ]
     },
     "execution_count": 37,
     "metadata": {},
     "output_type": "execute_result"
    },
    {
     "data": {
      "image/png": "[encoded data removed]",
      "text/plain": [
       "<matplotlib.figure.Figure at 0x111dbbac8>"
      ]
     },
     "metadata": {},
     "output_type": "display_data"
    }
   ],
   "source": [
    "fig, ax = plt.subplots(1,1)\n",
    "\n",
    "# Matplotlib & Pandas play together well\n",
    "df.loc[:,'Age'].plot(kind = 'hist',\n",
    "                     ax = ax) # Make the plot in this axis"
   ]
  },
  {
   "cell_type": "code",
   "execution_count": 35,
   "metadata": {
    "slideshow": {
     "slide_type": "subslide"
    }
   },
   "outputs": [
    {
     "data": {
      "image/png": "[encoded data removed]",
      "text/plain": [
       "<Figure size 720x720 with 6 Axes>"
      ]
     },
     "metadata": {},
     "output_type": "display_data"
    }
   ],
   "source": [
    "# This lets you do cool things\n",
    "fig, axs = plt.subplots(2, 3, figsize = (10, 10),\n",
    "                        sharex=True, sharey=True)\n",
    "cols = ['Month0', 'Month1', 'Month2', 'Month3', 'Month4']\n",
    "bins = np.arange(1, 7, 0.5)\n",
    "\n",
    "for col, ax in zip(cols, axs.flatten()):\n",
    "    \n",
    "    np.log10(df[col]).plot(kind='hist', ax=ax, bins=bins)\n",
    "    ax.set_title(col)\n",
    "    \n",
    "    if ax.is_first_col():\n",
    "        ax.set_ylabel('Patients')\n",
    "    if ax.is_last_row():\n",
    "        ax.set_xlabel('Log10(VL)')\n",
    "    \n",
    "fig.tight_layout()"
   ]
  },
  {
   "cell_type": "markdown",
   "metadata": {
    "slideshow": {
     "slide_type": "slide"
    }
   },
   "source": [
    "# Figure Captions\n",
    "\n",
    "If you look through the grading rubrics you'll see that about 50% of the credit is related to figure labels, captions, etc."
   ]
  },
  {
   "cell_type": "markdown",
   "metadata": {
    "slideshow": {
     "slide_type": "subslide"
    }
   },
   "source": [
    "All figures need the following items:\n",
    " - Descriptive X and Y labels\n",
    " - If it is a multi-axis plot, each axis needs a title\n",
    " \n",
    " \n",
    "All figure captions need the following items:\n",
    " - A results sentence\n",
    " - A description of each axis, including UNITS!\n",
    " - A description of all items plotted"
   ]
  },
  {
   "cell_type": "code",
   "execution_count": 39,
   "metadata": {
    "slideshow": {
     "slide_type": "subslide"
    }
   },
   "outputs": [
    {
     "data": {
      "text/plain": [
       "<matplotlib.text.Text at 0x112a42978>"
      ]
     },
     "execution_count": 39,
     "metadata": {},
     "output_type": "execute_result"
    },
    {
     "data": {
      "image/png": "[encoded data removed]",
      "text/plain": [
       "<matplotlib.figure.Figure at 0x11273a898>"
      ]
     },
     "metadata": {},
     "output_type": "display_data"
    }
   ],
   "source": [
    "fig, ax = plt.subplots(1,1)\n",
    "df.loc[:,'Age'].plot(kind='hist', ax=ax, bins = np.arange(20, 100, 10))\n",
    "ax.set_ylabel('Patients')\n",
    "ax.set_xlabel('Age')"
   ]
  },
  {
   "cell_type": "markdown",
   "metadata": {
    "slideshow": {
     "slide_type": "-"
    }
   },
   "source": [
    "_The age of patients in the study is uniformly distributed between 18 and 90 years old._ The height of each bar indicates the number of patients within the 10 year age range noted along the x-axis."
   ]
  },
  {
   "cell_type": "code",
   "execution_count": 40,
   "metadata": {
    "slideshow": {
     "slide_type": "subslide"
    }
   },
   "outputs": [
    {
     "data": {
      "image/png": "[encoded data removed]",
      "text/plain": [
       "<matplotlib.figure.Figure at 0x11273a438>"
      ]
     },
     "metadata": {},
     "output_type": "display_data"
    }
   ],
   "source": [
    "cols = ['Month0', 'Month1', 'Month2', 'Month3', 'Month4']\n",
    "axs = df.boxplot(by = 'Drug', column=cols, figsize=(10, 10))\n",
    "\n",
    "for ax in axs.flatten():\n",
    "    ax.set_yscale('log')\n",
    "    if ax.is_first_col():\n",
    "        ax.set_ylabel('Log10(VL)')"
   ]
  },
  {
   "cell_type": "markdown",
   "metadata": {
    "slideshow": {
     "slide_type": "-"
    }
   },
   "source": [
    "_Patient viral loads decreased in a drug dependent manner across the four months of the study._ The viral load (copies/uL) of patients taking each drug was plotted as a box-plot in which the red line indicates the mean value, the box encapsulated the upper and lower quartiles, and the whiskers span the 95% confidence interval. The data was further broken down by each month across the 5 axes."
   ]
  }
 ],
 "metadata": {
  "celltoolbar": "Slideshow",
  "kernelspec": {
   "display_name": "Python 3",
   "language": "python",
   "name": "python3"
  },
  "language_info": {
   "codemirror_mode": {
    "name": "ipython",
    "version": 3
   },
   "file_extension": ".py",
   "mimetype": "text/x-python",
   "name": "python",
   "nbconvert_exporter": "python",
   "pygments_lexer": "ipython3",
   "version": "3.7.4"
  }
 },
 "nbformat": 4,
 "nbformat_minor": 2
}
